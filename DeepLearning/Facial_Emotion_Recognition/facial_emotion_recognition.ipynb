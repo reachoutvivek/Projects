{
  "nbformat": 4,
  "nbformat_minor": 0,
  "metadata": {
    "colab": {
      "provenance": [],
      "gpuType": "T4"
    },
    "kernelspec": {
      "name": "python3",
      "display_name": "Python 3"
    },
    "language_info": {
      "name": "python"
    },
    "accelerator": "GPU"
  },
  "cells": [
    {
      "cell_type": "code",
      "execution_count": null,
      "metadata": {
        "id": "6Qz9JqUiPzPl"
      },
      "outputs": [],
      "source": [
        "!mkdir ~/.kaggle\n",
        "!cp kaggle.json ~/.kaggle"
      ]
    },
    {
      "cell_type": "code",
      "source": [
        "!kaggle datasets download -d msambare/fer2013"
      ],
      "metadata": {
        "colab": {
          "base_uri": "https://localhost:8080/"
        },
        "id": "q19S-OeWP-uf",
        "outputId": "ccf086ec-57ae-4399-bdc7-411a7d22d82b"
      },
      "execution_count": null,
      "outputs": [
        {
          "output_type": "stream",
          "name": "stdout",
          "text": [
            "Warning: Your Kaggle API key is readable by other users on this system! To fix this, you can run 'chmod 600 /root/.kaggle/kaggle.json'\n",
            "Downloading fer2013.zip to /content\n",
            " 96% 58.0M/60.3M [00:03<00:00, 24.5MB/s]\n",
            "100% 60.3M/60.3M [00:03<00:00, 17.6MB/s]\n"
          ]
        }
      ]
    },
    {
      "cell_type": "code",
      "source": [],
      "metadata": {
        "id": "ozVarsVXug_Q"
      },
      "execution_count": null,
      "outputs": []
    },
    {
      "cell_type": "code",
      "source": [
        "import zipfile\n",
        "zip=zipfile.ZipFile('/content/fer2013.zip')\n",
        "zip.extractall('/content')\n",
        "zip.close()"
      ],
      "metadata": {
        "id": "VocT_GL3QVZU"
      },
      "execution_count": null,
      "outputs": []
    },
    {
      "cell_type": "code",
      "source": [
        "import tensorflow as tf\n",
        "from tensorflow.keras import Sequential\n",
        "from tensorflow.keras import layers\n",
        "from keras.layers import Dense,Conv2D,MaxPooling2D\n",
        "import matplotlib.pyplot as plt\n",
        "from tensorflow.keras.layers import Conv2D, Flatten, BatchNormalization, Dense, MaxPooling2D, Activation,Dropout"
      ],
      "metadata": {
        "id": "mAELzW5IQZ3B"
      },
      "execution_count": null,
      "outputs": []
    },
    {
      "cell_type": "code",
      "source": [
        "batch_size=128\n",
        "image_size=256\n",
        "data=tf.keras.preprocessing.image_dataset_from_directory(\n",
        "    'train',\n",
        "    shuffle=True,\n",
        "    batch_size=batch_size,\n",
        "    image_size=(image_size,image_size),\n",
        ")"
      ],
      "metadata": {
        "colab": {
          "base_uri": "https://localhost:8080/"
        },
        "id": "SAajoFXSQbIQ",
        "outputId": "302a8eaf-c939-45ee-a285-30226cf0ce36"
      },
      "execution_count": null,
      "outputs": [
        {
          "output_type": "stream",
          "name": "stdout",
          "text": [
            "Found 28709 files belonging to 7 classes.\n"
          ]
        }
      ]
    },
    {
      "cell_type": "code",
      "source": [
        "class_names=data.class_names\n",
        "class_names"
      ],
      "metadata": {
        "colab": {
          "base_uri": "https://localhost:8080/"
        },
        "id": "0RNXAPXdQfwL",
        "outputId": "780d8f82-7fa7-4685-ad7c-3edd1d0a2cf7"
      },
      "execution_count": null,
      "outputs": [
        {
          "output_type": "execute_result",
          "data": {
            "text/plain": [
              "['angry', 'disgust', 'fear', 'happy', 'neutral', 'sad', 'surprise']"
            ]
          },
          "metadata": {},
          "execution_count": 6
        }
      ]
    },
    {
      "cell_type": "code",
      "source": [
        "for images,labels in data.take(1):\n",
        "  print(images.shape)\n",
        "  print(labels.numpy())"
      ],
      "metadata": {
        "colab": {
          "base_uri": "https://localhost:8080/"
        },
        "id": "3_WbE8ekQinV",
        "outputId": "39f37c4b-7406-4882-e328-0d16452f34b6"
      },
      "execution_count": null,
      "outputs": [
        {
          "output_type": "stream",
          "name": "stdout",
          "text": [
            "(128, 256, 256, 3)\n",
            "[0 3 6 4 5 6 3 0 6 3 2 3 6 3 3 5 2 3 2 0 0 2 2 4 4 0 0 3 3 4 4 4 3 5 3 4 0\n",
            " 3 4 3 3 3 5 4 3 2 2 3 3 5 0 5 4 2 0 5 0 0 6 5 5 6 6 4 2 0 4 6 3 3 0 3 3 3\n",
            " 6 5 3 4 1 2 5 6 3 5 3 2 4 2 0 5 3 4 4 5 4 5 0 3 6 2 3 2 3 4 2 3 4 4 3 0 6\n",
            " 0 4 2 0 0 0 4 3 6 2 0 0 4 2 3 4 5]\n"
          ]
        }
      ]
    },
    {
      "cell_type": "code",
      "source": [
        "augmentation=tf.keras.Sequential([\n",
        "    layers.experimental.preprocessing.RandomFlip(\"horizontal_and_vertical\"),\n",
        "  layers.experimental.preprocessing.RandomRotation(0.2),\n",
        "])"
      ],
      "metadata": {
        "id": "jLjeM1nlQmGz"
      },
      "execution_count": null,
      "outputs": []
    },
    {
      "cell_type": "code",
      "source": [
        "resizing=tf.keras.Sequential([\n",
        "    layers.experimental.preprocessing.Resizing(256,256),\n",
        "    layers.experimental.preprocessing.Rescaling(1.0/255)\n",
        "])"
      ],
      "metadata": {
        "id": "O4MxdH6xQo9G"
      },
      "execution_count": null,
      "outputs": []
    },
    {
      "cell_type": "code",
      "source": [
        "data = data.map(\n",
        "    lambda x, y: (augmentation(x, training=True), y)\n",
        ").prefetch(buffer_size=tf.data.AUTOTUNE)"
      ],
      "metadata": {
        "id": "b0f6qVNtQuDE"
      },
      "execution_count": null,
      "outputs": []
    },
    {
      "cell_type": "code",
      "source": [
        "input_shape=(batch_size,image_size,image_size,3)\n",
        "model = tf.keras.models.Sequential([\n",
        "    resizing,\n",
        "    augmentation,\n",
        "\n",
        "    layers.Conv2D(64, kernel_size = (3,3), activation='relu', input_shape=input_shape),\n",
        "    BatchNormalization(),\n",
        "    layers.MaxPooling2D((2, 2)),\n",
        "\n",
        "    layers.Conv2D(128,  kernel_size = (3,3), activation='relu'),\n",
        "    BatchNormalization(),\n",
        "    layers.MaxPooling2D((2, 2)),\n",
        "\n",
        "    layers.Conv2D(256, (3, 3), activation='relu'),\n",
        "    BatchNormalization(),\n",
        "    layers.MaxPooling2D((2, 2)),\n",
        "\n",
        "    layers.Conv2D(512, (3, 3), activation='relu'),\n",
        "    BatchNormalization(),\n",
        "    layers.MaxPooling2D((2, 2)),\n",
        "\n",
        "    layers.Flatten(),\n",
        "\n",
        "    layers.Dense(512,activation='relu'),\n",
        "    BatchNormalization(),\n",
        "\n",
        "    layers.Dense(1024,activation='relu'),\n",
        "    BatchNormalization(),\n",
        "\n",
        "    layers.Dense(7, activation='softmax'),\n",
        "])\n",
        "\n",
        "\n",
        "model.build(input_shape)\n",
        "model.compile(\n",
        "    optimizer='adam',\n",
        "     loss='SparseCategoricalCrossentropy',\n",
        "    metrics=['accuracy']\n",
        ")"
      ],
      "metadata": {
        "id": "fnKugnuGQwat"
      },
      "execution_count": null,
      "outputs": []
    },
    {
      "cell_type": "code",
      "source": [
        "model.summary()"
      ],
      "metadata": {
        "colab": {
          "base_uri": "https://localhost:8080/"
        },
        "id": "vsK7DkbuRAAb",
        "outputId": "1dfb0db2-5411-4ab2-dc5e-081a9e0320ac"
      },
      "execution_count": null,
      "outputs": [
        {
          "output_type": "stream",
          "name": "stdout",
          "text": [
            "Model: \"sequential_3\"\n",
            "_________________________________________________________________\n",
            " Layer (type)                Output Shape              Param #   \n",
            "=================================================================\n",
            " sequential_1 (Sequential)   (128, 256, 256, 3)        0         \n",
            "                                                                 \n",
            " sequential (Sequential)     (128, 256, 256, 3)        0         \n",
            "                                                                 \n",
            " conv2d_4 (Conv2D)           (128, 254, 254, 64)       1792      \n",
            "                                                                 \n",
            " batch_normalization_6 (Batc  (128, 254, 254, 64)      256       \n",
            " hNormalization)                                                 \n",
            "                                                                 \n",
            " max_pooling2d_4 (MaxPooling  (128, 127, 127, 64)      0         \n",
            " 2D)                                                             \n",
            "                                                                 \n",
            " conv2d_5 (Conv2D)           (128, 125, 125, 128)      73856     \n",
            "                                                                 \n",
            " batch_normalization_7 (Batc  (128, 125, 125, 128)     512       \n",
            " hNormalization)                                                 \n",
            "                                                                 \n",
            " max_pooling2d_5 (MaxPooling  (128, 62, 62, 128)       0         \n",
            " 2D)                                                             \n",
            "                                                                 \n",
            " conv2d_6 (Conv2D)           (128, 60, 60, 256)        295168    \n",
            "                                                                 \n",
            " batch_normalization_8 (Batc  (128, 60, 60, 256)       1024      \n",
            " hNormalization)                                                 \n",
            "                                                                 \n",
            " max_pooling2d_6 (MaxPooling  (128, 30, 30, 256)       0         \n",
            " 2D)                                                             \n",
            "                                                                 \n",
            " conv2d_7 (Conv2D)           (128, 28, 28, 512)        1180160   \n",
            "                                                                 \n",
            " batch_normalization_9 (Batc  (128, 28, 28, 512)       2048      \n",
            " hNormalization)                                                 \n",
            "                                                                 \n",
            " max_pooling2d_7 (MaxPooling  (128, 14, 14, 512)       0         \n",
            " 2D)                                                             \n",
            "                                                                 \n",
            " flatten_1 (Flatten)         (128, 100352)             0         \n",
            "                                                                 \n",
            " dense_3 (Dense)             (128, 512)                51380736  \n",
            "                                                                 \n",
            " batch_normalization_10 (Bat  (128, 512)               2048      \n",
            " chNormalization)                                                \n",
            "                                                                 \n",
            " dense_4 (Dense)             (128, 1024)               525312    \n",
            "                                                                 \n",
            " batch_normalization_11 (Bat  (128, 1024)              4096      \n",
            " chNormalization)                                                \n",
            "                                                                 \n",
            " dense_5 (Dense)             (128, 7)                  7175      \n",
            "                                                                 \n",
            "=================================================================\n",
            "Total params: 53,474,183\n",
            "Trainable params: 53,469,191\n",
            "Non-trainable params: 4,992\n",
            "_________________________________________________________________\n"
          ]
        }
      ]
    },
    {
      "cell_type": "code",
      "source": [
        "test_ds=tf.keras.preprocessing.image_dataset_from_directory(\n",
        "    'test',\n",
        "    batch_size=128,\n",
        "    image_size=(256,256),\n",
        "    shuffle=True,\n",
        ")"
      ],
      "metadata": {
        "colab": {
          "base_uri": "https://localhost:8080/"
        },
        "id": "C0KqpqSFRJCR",
        "outputId": "3f2e0845-171f-446a-84e6-11f374b09e59"
      },
      "execution_count": null,
      "outputs": [
        {
          "output_type": "stream",
          "name": "stdout",
          "text": [
            "Found 7178 files belonging to 7 classes.\n"
          ]
        }
      ]
    },
    {
      "cell_type": "code",
      "source": [
        "len(data)"
      ],
      "metadata": {
        "colab": {
          "base_uri": "https://localhost:8080/"
        },
        "id": "t2Gb5Vs6nxWl",
        "outputId": "cadb87a9-ccb3-4297-b9d2-bd0f163764f7"
      },
      "execution_count": null,
      "outputs": [
        {
          "output_type": "execute_result",
          "data": {
            "text/plain": [
              "225"
            ]
          },
          "metadata": {},
          "execution_count": 15
        }
      ]
    },
    {
      "cell_type": "code",
      "source": [
        "history=model.fit(data,\n",
        "                  batch_size=batch_size,\n",
        "                  #steps_per_epoch=len(data)//batch_size,\n",
        "                  validation_data=test_ds,\n",
        "                  #validation_steps=len(test_ds)//128,\n",
        "                  #callbacks=callbacks_list,\n",
        "                  epochs=30)"
      ],
      "metadata": {
        "colab": {
          "base_uri": "https://localhost:8080/"
        },
        "id": "MFu3KRKLRKRR",
        "outputId": "9c49d582-33f9-4c07-baa9-4a99c5e731de"
      },
      "execution_count": null,
      "outputs": [
        {
          "output_type": "stream",
          "name": "stdout",
          "text": [
            "Epoch 1/30\n",
            "225/225 [==============================] - 229s 882ms/step - loss: 1.9396 - accuracy: 0.2385 - val_loss: 2.3904 - val_accuracy: 0.2545\n",
            "Epoch 2/30\n",
            "225/225 [==============================] - 195s 861ms/step - loss: 1.7907 - accuracy: 0.2735 - val_loss: 2.1121 - val_accuracy: 0.1943\n",
            "Epoch 3/30\n",
            "225/225 [==============================] - 194s 857ms/step - loss: 1.7289 - accuracy: 0.3076 - val_loss: 2.5132 - val_accuracy: 0.1843\n",
            "Epoch 4/30\n",
            "225/225 [==============================] - 201s 888ms/step - loss: 1.6716 - accuracy: 0.3424 - val_loss: 1.8246 - val_accuracy: 0.2708\n",
            "Epoch 5/30\n",
            "225/225 [==============================] - 193s 853ms/step - loss: 1.5968 - accuracy: 0.3775 - val_loss: 1.7263 - val_accuracy: 0.3452\n",
            "Epoch 6/30\n",
            "225/225 [==============================] - 193s 854ms/step - loss: 1.5196 - accuracy: 0.4090 - val_loss: 1.8559 - val_accuracy: 0.2598\n",
            "Epoch 7/30\n",
            "225/225 [==============================] - 194s 858ms/step - loss: 1.4696 - accuracy: 0.4325 - val_loss: 1.6901 - val_accuracy: 0.3644\n",
            "Epoch 8/30\n",
            "225/225 [==============================] - 193s 852ms/step - loss: 1.4234 - accuracy: 0.4544 - val_loss: 2.2169 - val_accuracy: 0.2353\n",
            "Epoch 9/30\n",
            "225/225 [==============================] - 193s 853ms/step - loss: 1.3768 - accuracy: 0.4720 - val_loss: 2.0273 - val_accuracy: 0.2719\n",
            "Epoch 10/30\n",
            "225/225 [==============================] - 192s 852ms/step - loss: 1.3398 - accuracy: 0.4873 - val_loss: 1.4385 - val_accuracy: 0.4436\n",
            "Epoch 11/30\n",
            "225/225 [==============================] - 192s 852ms/step - loss: 1.3088 - accuracy: 0.4994 - val_loss: 1.5924 - val_accuracy: 0.4175\n",
            "Epoch 12/30\n",
            "225/225 [==============================] - 193s 852ms/step - loss: 1.2809 - accuracy: 0.5098 - val_loss: 1.7174 - val_accuracy: 0.3504\n",
            "Epoch 13/30\n",
            "225/225 [==============================] - 192s 849ms/step - loss: 1.2526 - accuracy: 0.5229 - val_loss: 1.3631 - val_accuracy: 0.4901\n",
            "Epoch 14/30\n",
            "225/225 [==============================] - 192s 849ms/step - loss: 1.2358 - accuracy: 0.5273 - val_loss: 1.4178 - val_accuracy: 0.4515\n",
            "Epoch 15/30\n",
            "225/225 [==============================] - 192s 852ms/step - loss: 1.2143 - accuracy: 0.5396 - val_loss: 1.7397 - val_accuracy: 0.3870\n",
            "Epoch 16/30\n",
            "225/225 [==============================] - 193s 853ms/step - loss: 1.1831 - accuracy: 0.5516 - val_loss: 1.4386 - val_accuracy: 0.4713\n",
            "Epoch 17/30\n",
            "225/225 [==============================] - 192s 849ms/step - loss: 1.1686 - accuracy: 0.5569 - val_loss: 1.2655 - val_accuracy: 0.5248\n",
            "Epoch 18/30\n",
            "225/225 [==============================] - 192s 848ms/step - loss: 1.1452 - accuracy: 0.5659 - val_loss: 1.3451 - val_accuracy: 0.5007\n",
            "Epoch 19/30\n",
            "225/225 [==============================] - 192s 850ms/step - loss: 1.1293 - accuracy: 0.5727 - val_loss: 1.4134 - val_accuracy: 0.4625\n",
            "Epoch 20/30\n",
            "225/225 [==============================] - 192s 850ms/step - loss: 1.1212 - accuracy: 0.5767 - val_loss: 1.5796 - val_accuracy: 0.4505\n",
            "Epoch 21/30\n",
            "225/225 [==============================] - 191s 847ms/step - loss: 1.1023 - accuracy: 0.5849 - val_loss: 1.5044 - val_accuracy: 0.4482\n",
            "Epoch 22/30\n",
            "225/225 [==============================] - 192s 849ms/step - loss: 1.0736 - accuracy: 0.5987 - val_loss: 1.2135 - val_accuracy: 0.5391\n",
            "Epoch 23/30\n",
            "225/225 [==============================] - 199s 882ms/step - loss: 1.0566 - accuracy: 0.6049 - val_loss: 1.2191 - val_accuracy: 0.5386\n",
            "Epoch 24/30\n",
            "225/225 [==============================] - 192s 849ms/step - loss: 1.0265 - accuracy: 0.6158 - val_loss: 1.2445 - val_accuracy: 0.5449\n",
            "Epoch 25/30\n",
            "225/225 [==============================] - 192s 850ms/step - loss: 1.0226 - accuracy: 0.6187 - val_loss: 1.2286 - val_accuracy: 0.5332\n",
            "Epoch 26/30\n",
            "225/225 [==============================] - 192s 848ms/step - loss: 1.0052 - accuracy: 0.6263 - val_loss: 1.6940 - val_accuracy: 0.4228\n",
            "Epoch 27/30\n",
            "225/225 [==============================] - 193s 852ms/step - loss: 0.9872 - accuracy: 0.6349 - val_loss: 1.3503 - val_accuracy: 0.5109\n",
            "Epoch 28/30\n",
            "225/225 [==============================] - 192s 849ms/step - loss: 0.9832 - accuracy: 0.6338 - val_loss: 1.3098 - val_accuracy: 0.5366\n",
            "Epoch 29/30\n",
            "225/225 [==============================] - 191s 845ms/step - loss: 0.9559 - accuracy: 0.6447 - val_loss: 1.4926 - val_accuracy: 0.4795\n",
            "Epoch 30/30\n",
            "225/225 [==============================] - 191s 847ms/step - loss: 0.9451 - accuracy: 0.6486 - val_loss: 1.4123 - val_accuracy: 0.4954\n"
          ]
        }
      ]
    },
    {
      "cell_type": "code",
      "source": [
        "history=model.fit(data,\n",
        "                  batch_size=batch_size,\n",
        "                  #steps_per_epoch=len(data)//batch_size,\n",
        "                  validation_data=test_ds,\n",
        "                  #validation_steps=len(test_ds)//128,\n",
        "                  #callbacks=callbacks_list,\n",
        "                  epochs=10)"
      ],
      "metadata": {
        "colab": {
          "base_uri": "https://localhost:8080/"
        },
        "id": "-PDnwJ62n6Xi",
        "outputId": "2f4332ac-2bb6-4f8c-bbbb-075090e211c9"
      },
      "execution_count": null,
      "outputs": [
        {
          "output_type": "stream",
          "name": "stdout",
          "text": [
            "Epoch 1/10\n",
            "225/225 [==============================] - 199s 883ms/step - loss: 0.9323 - accuracy: 0.6567 - val_loss: 1.3361 - val_accuracy: 0.5242\n",
            "Epoch 2/10\n",
            "225/225 [==============================] - 192s 850ms/step - loss: 0.9197 - accuracy: 0.6639 - val_loss: 1.2410 - val_accuracy: 0.5483\n",
            "Epoch 3/10\n",
            "225/225 [==============================] - 192s 850ms/step - loss: 0.8971 - accuracy: 0.6707 - val_loss: 1.2396 - val_accuracy: 0.5440\n",
            "Epoch 4/10\n",
            "225/225 [==============================] - 191s 846ms/step - loss: 0.8840 - accuracy: 0.6772 - val_loss: 1.3160 - val_accuracy: 0.5297\n",
            "Epoch 5/10\n",
            "225/225 [==============================] - 199s 879ms/step - loss: 0.8591 - accuracy: 0.6867 - val_loss: 1.4271 - val_accuracy: 0.5134\n",
            "Epoch 6/10\n",
            "225/225 [==============================] - 191s 847ms/step - loss: 0.8589 - accuracy: 0.6860 - val_loss: 1.5931 - val_accuracy: 0.4650\n",
            "Epoch 7/10\n",
            "225/225 [==============================] - 192s 850ms/step - loss: 0.8333 - accuracy: 0.6950 - val_loss: 1.5838 - val_accuracy: 0.4787\n",
            "Epoch 8/10\n",
            "225/225 [==============================] - 193s 853ms/step - loss: 0.8219 - accuracy: 0.7000 - val_loss: 1.4195 - val_accuracy: 0.5208\n",
            "Epoch 9/10\n",
            "225/225 [==============================] - 191s 847ms/step - loss: 0.8175 - accuracy: 0.7025 - val_loss: 1.8769 - val_accuracy: 0.4351\n",
            "Epoch 10/10\n",
            "225/225 [==============================] - 192s 850ms/step - loss: 0.8013 - accuracy: 0.7080 - val_loss: 1.5528 - val_accuracy: 0.5100\n"
          ]
        }
      ]
    },
    {
      "cell_type": "code",
      "source": [
        "model.evaluate(test_ds)"
      ],
      "metadata": {
        "colab": {
          "base_uri": "https://localhost:8080/"
        },
        "id": "soVrVTPkwLWs",
        "outputId": "8f6de936-42b9-4fbd-a651-359922207ea2"
      },
      "execution_count": null,
      "outputs": [
        {
          "output_type": "stream",
          "name": "stdout",
          "text": [
            "57/57 [==============================] - 14s 229ms/step - loss: 1.5528 - accuracy: 0.5100\n"
          ]
        },
        {
          "output_type": "execute_result",
          "data": {
            "text/plain": [
              "[1.5528459548950195, 0.5100306272506714]"
            ]
          },
          "metadata": {},
          "execution_count": 20
        }
      ]
    },
    {
      "cell_type": "code",
      "source": [
        "plt.figure(figsize=(20,10))\n",
        "plt.subplot(1, 2, 1)\n",
        "plt.suptitle('Optimizer : Adam', fontsize=10)\n",
        "plt.ylabel('Loss', fontsize=16)\n",
        "plt.plot(history.history['loss'], label='Training Loss')\n",
        "plt.plot(history.history['val_loss'], label='Validation Loss')\n",
        "plt.legend(loc='upper right')\n",
        "\n",
        "plt.subplot(1, 2, 2)\n",
        "plt.ylabel('Accuracy', fontsize=16)\n",
        "plt.plot(history.history['accuracy'], label='Training Accuracy')\n",
        "plt.plot(history.history['val_accuracy'], label='Validation Accuracy')\n",
        "plt.legend(loc='lower right')\n",
        "plt.show()"
      ],
      "metadata": {
        "colab": {
          "base_uri": "https://localhost:8080/",
          "height": 499
        },
        "id": "auh0wU98wZTB",
        "outputId": "5acfa6f9-5c8d-4663-f8e7-a110b115feea"
      },
      "execution_count": null,
      "outputs": [
        {
          "output_type": "display_data",
          "data": {
            "text/plain": [
              "<Figure size 2000x1000 with 2 Axes>"
            ],
            "image/png": "[encoded data removed]"
          },
          "metadata": {}
        }
      ]
    },
    {
      "cell_type": "code",
      "source": [
        "from tensorflow.keras.models import load_model\n",
        "from google.colab import files\n",
        "model.save('emotion_model8.h5')"
      ],
      "metadata": {
        "id": "IUyVt-T82-xr"
      },
      "execution_count": null,
      "outputs": []
    },
    {
      "cell_type": "code",
      "source": [
        "files.download('emotion_model8.h5')"
      ],
      "metadata": {
        "colab": {
          "base_uri": "https://localhost:8080/",
          "height": 34
        },
        "id": "FP3H1u8R3vDC",
        "outputId": "b6dd6f04-f574-440e-cad5-338c0b9db69c"
      },
      "execution_count": null,
      "outputs": [
        {
          "output_type": "display_data",
          "data": {
            "text/plain": [
              "<IPython.core.display.Javascript object>"
            ],
            "application/javascript": [
              "\n",
              "    async function download(id, filename, size) {\n",
              "      if (!google.colab.kernel.accessAllowed) {\n",
              "        return;\n",
              "      }\n",
              "      const div = document.createElement('div');\n",
              "      const label = document.createElement('label');\n",
              "      label.textContent = `Downloading \"${filename}\": `;\n",
              "      div.appendChild(label);\n",
              "      const progress = document.createElement('progress');\n",
              "      progress.max = size;\n",
              "      div.appendChild(progress);\n",
              "      document.body.appendChild(div);\n",
              "\n",
              "      const buffers = [];\n",
              "      let downloaded = 0;\n",
              "\n",
              "      const channel = await google.colab.kernel.comms.open(id);\n",
              "      // Send a message to notify the kernel that we're ready.\n",
              "      channel.send({})\n",
              "\n",
              "      for await (const message of channel.messages) {\n",
              "        // Send a message to notify the kernel that we're ready.\n",
              "        channel.send({})\n",
              "        if (message.buffers) {\n",
              "          for (const buffer of message.buffers) {\n",
              "            buffers.push(buffer);\n",
              "            downloaded += buffer.byteLength;\n",
              "            progress.value = downloaded;\n",
              "          }\n",
              "        }\n",
              "      }\n",
              "      const blob = new Blob(buffers, {type: 'application/binary'});\n",
              "      const a = document.createElement('a');\n",
              "      a.href = window.URL.createObjectURL(blob);\n",
              "      a.download = filename;\n",
              "      div.appendChild(a);\n",
              "      a.click();\n",
              "      div.remove();\n",
              "    }\n",
              "  "
            ]
          },
          "metadata": {}
        },
        {
          "output_type": "display_data",
          "data": {
            "text/plain": [
              "<IPython.core.display.Javascript object>"
            ],
            "application/javascript": [
              "download(\"download_17750613-abce-42f4-9043-c6fa40a1642a\", \"emotion_model8.h5\", 641768792)"
            ]
          },
          "metadata": {}
        }
      ]
    }
  ]
}